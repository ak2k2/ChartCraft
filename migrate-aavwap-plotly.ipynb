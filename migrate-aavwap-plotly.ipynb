{
 "cells": [
  {
   "cell_type": "code",
   "execution_count": 10,
   "metadata": {},
   "outputs": [
    {
     "name": "stdout",
     "output_type": "stream",
     "text": [
     ]
    }
   ],
   "source": [
    "import plotly.offline as pyo\n",
    "import plotly.graph_objs as go\n",
    "import yfinance as yf\n",
    "import numpy as np\n",
    "import pandas as pd\n",
    "import matplotlib.pyplot as plt\n",
    "from openai_api_request import make_openai_request\n",
    "import pandas_ta as ta\n",
    "\n",
    "\n"
   ]
  },
  {
   "cell_type": "code",
   "execution_count": 11,
   "metadata": {},
   "outputs": [
    {
     "name": "stdout",
     "output_type": "stream",
     "text": [
      "[*********************100%***********************]  1 of 1 completed\n"
     ]
    }
   ],
   "source": [
    "ticker = 'SPY'\n",
    "interval = '1h'\n",
    "daily_data = yf.download(ticker,'2022-12-01','2023-01-24', interval=interval)\n",
    "\n",
    "#if daily data has any nan values, drop the entire row\n",
    "\n",
    "daily_data['hlc3'] = (daily_data['High'] + daily_data['Low'] + daily_data['Close']) / 3"
   ]
  },
  {
   "cell_type": "code",
   "execution_count": 12,
   "metadata": {},
   "outputs": [],
   "source": [
    "def dthp(daily_data, lb_days, mode):\n",
    "\n",
    "    '''Calculate the date time of highest price, lowest price and highest volume on a daily in the last lb_days days'''\n",
    "    dthp_index = daily_data['High'][len(daily_data)-lb_days:].idxmax()\n",
    "    index_hp = daily_data.index.get_loc(dthp_index)\n",
    "\n",
    "    dtlp_index = daily_data['Low'][len(daily_data)-lb_days:].idxmin()\n",
    "    index_lp = daily_data.index.get_loc(dtlp_index)\n",
    "\n",
    "    dthv_index = daily_data['Volume'][len(daily_data)-lb_days:].idxmax()\n",
    "    index_hv = daily_data.index.get_loc(dthv_index)\n",
    "\n",
    "    if mode == \"dates\":\n",
    "        return dthp_index, dtlp_index, dthv_index\n",
    "        \n",
    "    elif mode == \"indexes\":\n",
    "        return index_hp, index_lp, index_hv\n"
   ]
  },
  {
   "attachments": {},
   "cell_type": "markdown",
   "metadata": {},
   "source": [
    "Change The (# Lookback Days) Arguement For The AAVWAP Indicator"
   ]
  },
  {
   "cell_type": "code",
   "execution_count": 13,
   "metadata": {},
   "outputs": [],
   "source": [
    "lb_param = 1000"
   ]
  },
  {
   "cell_type": "code",
   "execution_count": 14,
   "metadata": {},
   "outputs": [
    {
     "name": "stdout",
     "output_type": "stream",
     "text": [
      "54 107 54\n"
     ]
    }
   ],
   "source": [
    "dthp_index, dtlp_index, dthv_index = dthp(daily_data, lb_param, \"indexes\")\n",
    "dthp_date, dtlp_date, dthv_date = dthp(daily_data, lb_param, \"dates\")\n",
    "print(dthp_index, dtlp_index, dthv_index)\n"
   ]
  },
  {
   "cell_type": "code",
   "execution_count": 15,
   "metadata": {},
   "outputs": [],
   "source": [
    "hp_vwap_bars = daily_data[dthp_index:].copy()\n",
    "lp_vwap_bars = daily_data[dtlp_index:].copy()\n",
    "hv_vwap_bars = daily_data[dthv_index:].copy()\n",
    "\n",
    "def vwap(vwap_bars):\n",
    "    '''Calculate the volume weighted average price'''\n",
    "    vwap_bars['vwap'] = (vwap_bars['hlc3'] * vwap_bars['Volume']).cumsum() / vwap_bars['Volume'].cumsum()\n",
    "    return vwap_bars['vwap']"
   ]
  },
  {
   "cell_type": "code",
   "execution_count": 16,
   "metadata": {},
   "outputs": [],
   "source": [
    "hpvwap = vwap(hp_vwap_bars)\n",
    "lpvwap = vwap(lp_vwap_bars)\n",
    "hvvwap = vwap(hv_vwap_bars)\n",
    "\n",
    "#line up the vwap series and add it to daily_data\n",
    "daily_data['hpvwap'] = hpvwap\n",
    "daily_data['lpvwap'] = lpvwap\n",
    "daily_data['hvvwap'] = hvvwap"
   ]
  },
  {
   "cell_type": "code",
   "execution_count": 17,
   "metadata": {},
   "outputs": [
    {
     "ename": "NameError",
     "evalue": "name 'rsi_obj' is not defined",
     "output_type": "error",
     "traceback": [
      "\u001b[0;31m---------------------------------------------------------------------------\u001b[0m",
      "\u001b[0;31mNameError\u001b[0m                                 Traceback (most recent call last)",
      "Cell \u001b[0;32mIn[17], line 21\u001b[0m\n\u001b[1;32m     18\u001b[0m vert3 \u001b[39m=\u001b[39m go\u001b[39m.\u001b[39mlayout\u001b[39m.\u001b[39mShape(\u001b[39mtype\u001b[39m\u001b[39m=\u001b[39m\u001b[39m\"\u001b[39m\u001b[39mline\u001b[39m\u001b[39m\"\u001b[39m, x0\u001b[39m=\u001b[39mdthv_date, y0\u001b[39m=\u001b[39m\u001b[39m0\u001b[39m, x1\u001b[39m=\u001b[39mdthv_date, y1\u001b[39m=\u001b[39mdaily_data[\u001b[39m\"\u001b[39m\u001b[39mLow\u001b[39m\u001b[39m\"\u001b[39m][dthv_index], line\u001b[39m=\u001b[39m\u001b[39mdict\u001b[39m(color\u001b[39m=\u001b[39m\u001b[39m\"\u001b[39m\u001b[39mblue\u001b[39m\u001b[39m\"\u001b[39m, width\u001b[39m=\u001b[39m\u001b[39m2\u001b[39m, dash\u001b[39m=\u001b[39m\u001b[39m'\u001b[39m\u001b[39mdash\u001b[39m\u001b[39m'\u001b[39m), layer\u001b[39m=\u001b[39m\u001b[39m'\u001b[39m\u001b[39mbelow\u001b[39m\u001b[39m'\u001b[39m)\n\u001b[1;32m     20\u001b[0m layout \u001b[39m=\u001b[39m go\u001b[39m.\u001b[39mLayout(shapes\u001b[39m=\u001b[39m[vert, vert2, vert3], title\u001b[39m=\u001b[39m \u001b[39m'\u001b[39m\u001b[39mChart \u001b[39m\u001b[39m'\u001b[39m \u001b[39m+\u001b[39m ticker \u001b[39m+\u001b[39m \u001b[39m'\u001b[39m\u001b[39m \u001b[39m\u001b[39m'\u001b[39m \u001b[39m+\u001b[39m interval, xaxis\u001b[39m=\u001b[39m\u001b[39mdict\u001b[39m(title\u001b[39m=\u001b[39m\u001b[39m'\u001b[39m\u001b[39mDate\u001b[39m\u001b[39m'\u001b[39m), yaxis\u001b[39m=\u001b[39m\u001b[39mdict\u001b[39m(title\u001b[39m=\u001b[39m\u001b[39m'\u001b[39m\u001b[39mPrice\u001b[39m\u001b[39m'\u001b[39m))\n\u001b[0;32m---> 21\u001b[0m plotstuff \u001b[39m=\u001b[39m [trace, high_vwap_plotlyobj, low_vwap_plotlyobj, high_volume_vwap_plotlyobj, rsi_obj, rsi_upper_bound_obj, rsi_lower_bound_obj]\n\u001b[1;32m     23\u001b[0m \u001b[39m# layout = go.Layout(title= 'Chart ' + ticker + ' ' + interval, xaxis=dict(title='Date'), yaxis=dict(title='Price'))\u001b[39;00m\n\u001b[1;32m     25\u001b[0m fig \u001b[39m=\u001b[39m go\u001b[39m.\u001b[39mFigure(data\u001b[39m=\u001b[39mplotstuff, layout\u001b[39m=\u001b[39mlayout)\n",
      "\u001b[0;31mNameError\u001b[0m: name 'rsi_obj' is not defined"
     ]
    }
   ],
   "source": [
    "\n",
    "\n",
    "trace = go.Candlestick(x=daily_data.index,\n",
    "                        open=daily_data['Open'],\n",
    "                        high=daily_data['High'],\n",
    "                        low=daily_data['Low'],\n",
    "                        close=daily_data['Close'],\n",
    "                       )\n",
    "\n",
    "high_vwap_plotlyobj = go.Scatter(x=daily_data.index, y=daily_data['hpvwap'], name='HPA: ' + str(dthp_date), line=dict(color='red'))\n",
    "low_vwap_plotlyobj = go.Scatter(x=daily_data.index, y=daily_data['lpvwap'], name='LPA', line=dict(color='green'))\n",
    "high_volume_vwap_plotlyobj = go.Scatter(x=daily_data.index, y=daily_data['hvvwap'], name='HVA', line=dict(color='blue'))\n",
    "# rsi_obj = go.Scatter(x=daily_data.index, y=daily_data['RSI-14d'], name='RSI', line=dict(color='black'))\n",
    "# rsi_upper_bound_obj = go.Scatter(x=daily_data.index, y=daily_data['rsi_upper_bound'], name='RSI Upper Bound', line=dict(color='black', dash='dash'))\n",
    "# rsi_lower_bound_obj = go.Scatter(x=daily_data.index, y=daily_data['rsi_lower_bound'], name='RSI Lower Bound', line=dict(color='black', dash='dash'))\n",
    "\n",
    "#plot a vertical line going down from the anchor candles.\n",
    "vert = go.layout.Shape(type=\"line\", x0=dthp_date, y0=0, x1=dthp_date, y1=daily_data[\"Low\"][dthp_index], line=dict(color=\"red\", width=2, dash='dash'), layer='below')\n",
    "vert2 = go.layout.Shape(type=\"line\", x0=dtlp_date, y0=0, x1=dtlp_date, y1=daily_data[\"Low\"][dtlp_index], line=dict(color=\"green\", width=2, dash='dash'), layer='below')\n",
    "vert3 = go.layout.Shape(type=\"line\", x0=dthv_date, y0=0, x1=dthv_date, y1=daily_data[\"Low\"][dthv_index], line=dict(color=\"blue\", width=2, dash='dash'), layer='below')\n",
    "\n",
    "layout = go.Layout(shapes=[vert, vert2, vert3], title= 'Chart ' + ticker + ' ' + interval, xaxis=dict(title='Date'), yaxis=dict(title='Price'))\n",
    "plotstuff = [trace, high_vwap_plotlyobj, low_vwap_plotlyobj, high_volume_vwap_plotlyobj, rsi_obj, rsi_upper_bound_obj, rsi_lower_bound_obj]\n",
    "\n",
    "# layout = go.Layout(title= 'Chart ' + ticker + ' ' + interval, xaxis=dict(title='Date'), yaxis=dict(title='Price'))\n",
    "\n",
    "fig = go.Figure(data=plotstuff, layout=layout)\n",
    "\n",
    "#scale y axis to fit the data\n",
    "\n"
   ]
  },
  {
   "cell_type": "code",
   "execution_count": null,
   "metadata": {},
   "outputs": [
    {
     "ename": "NameError",
     "evalue": "name 'fig' is not defined",
     "output_type": "error",
     "traceback": [
      "\u001b[0;31m---------------------------------------------------------------------------\u001b[0m",
      "\u001b[0;31mNameError\u001b[0m                                 Traceback (most recent call last)",
      "Cell \u001b[0;32mIn[9], line 1\u001b[0m\n\u001b[0;32m----> 1\u001b[0m fig\u001b[39m.\u001b[39mupdate_layout(\n\u001b[1;32m      2\u001b[0m     xaxis_rangeslider_visible\u001b[39m=\u001b[39m\u001b[39mFalse\u001b[39;00m,\n\u001b[1;32m      3\u001b[0m     xaxis\u001b[39m=\u001b[39m\u001b[39mdict\u001b[39m(\n\u001b[1;32m      4\u001b[0m         rangeselector\u001b[39m=\u001b[39m\u001b[39mdict\u001b[39m(\n\u001b[1;32m      5\u001b[0m             buttons\u001b[39m=\u001b[39m\u001b[39mlist\u001b[39m([\n\u001b[1;32m      6\u001b[0m                 \u001b[39mdict\u001b[39m(count\u001b[39m=\u001b[39m\u001b[39m1\u001b[39m,\n\u001b[1;32m      7\u001b[0m                         label\u001b[39m=\u001b[39m\u001b[39m\"\u001b[39m\u001b[39m1m\u001b[39m\u001b[39m\"\u001b[39m,\n\u001b[1;32m      8\u001b[0m                         step\u001b[39m=\u001b[39m\u001b[39m\"\u001b[39m\u001b[39mmonth\u001b[39m\u001b[39m\"\u001b[39m,\n\u001b[1;32m      9\u001b[0m                         stepmode\u001b[39m=\u001b[39m\u001b[39m\"\u001b[39m\u001b[39mbackward\u001b[39m\u001b[39m\"\u001b[39m),\n\u001b[1;32m     10\u001b[0m                 \u001b[39mdict\u001b[39m(count\u001b[39m=\u001b[39m\u001b[39m6\u001b[39m,\n\u001b[1;32m     11\u001b[0m                         label\u001b[39m=\u001b[39m\u001b[39m\"\u001b[39m\u001b[39m6m\u001b[39m\u001b[39m\"\u001b[39m,\n\u001b[1;32m     12\u001b[0m                         step\u001b[39m=\u001b[39m\u001b[39m\"\u001b[39m\u001b[39mmonth\u001b[39m\u001b[39m\"\u001b[39m,\n\u001b[1;32m     13\u001b[0m                         stepmode\u001b[39m=\u001b[39m\u001b[39m\"\u001b[39m\u001b[39mbackward\u001b[39m\u001b[39m\"\u001b[39m),\n\u001b[1;32m     14\u001b[0m                 \u001b[39mdict\u001b[39m(count\u001b[39m=\u001b[39m\u001b[39m1\u001b[39m,\n\u001b[1;32m     15\u001b[0m                         label\u001b[39m=\u001b[39m\u001b[39m\"\u001b[39m\u001b[39mYTD\u001b[39m\u001b[39m\"\u001b[39m,\n\u001b[1;32m     16\u001b[0m                         step\u001b[39m=\u001b[39m\u001b[39m\"\u001b[39m\u001b[39myear\u001b[39m\u001b[39m\"\u001b[39m,\n\u001b[1;32m     17\u001b[0m                         stepmode\u001b[39m=\u001b[39m\u001b[39m\"\u001b[39m\u001b[39mtodate\u001b[39m\u001b[39m\"\u001b[39m),\n\u001b[1;32m     18\u001b[0m                 \u001b[39mdict\u001b[39m(count\u001b[39m=\u001b[39m\u001b[39m1\u001b[39m,\n\u001b[1;32m     19\u001b[0m                         label\u001b[39m=\u001b[39m\u001b[39m\"\u001b[39m\u001b[39m1y\u001b[39m\u001b[39m\"\u001b[39m,\n\u001b[1;32m     20\u001b[0m                         step\u001b[39m=\u001b[39m\u001b[39m\"\u001b[39m\u001b[39myear\u001b[39m\u001b[39m\"\u001b[39m,\n\u001b[1;32m     21\u001b[0m                         stepmode\u001b[39m=\u001b[39m\u001b[39m\"\u001b[39m\u001b[39mbackward\u001b[39m\u001b[39m\"\u001b[39m),\n\u001b[1;32m     22\u001b[0m                 \u001b[39mdict\u001b[39m(step\u001b[39m=\u001b[39m\u001b[39m\"\u001b[39m\u001b[39mall\u001b[39m\u001b[39m\"\u001b[39m)\n\u001b[1;32m     23\u001b[0m             ])\n\u001b[1;32m     24\u001b[0m         ),\n\u001b[1;32m     25\u001b[0m         rangeslider\u001b[39m=\u001b[39m\u001b[39mdict\u001b[39m(\n\u001b[1;32m     26\u001b[0m             visible\u001b[39m=\u001b[39m\u001b[39mTrue\u001b[39;00m\n\u001b[1;32m     27\u001b[0m         ),\n\u001b[1;32m     28\u001b[0m         \u001b[39mtype\u001b[39m\u001b[39m=\u001b[39m\u001b[39m\"\u001b[39m\u001b[39mdate\u001b[39m\u001b[39m\"\u001b[39m\n\u001b[1;32m     29\u001b[0m     )\n\u001b[1;32m     30\u001b[0m )\n\u001b[1;32m     34\u001b[0m \u001b[39m# fig.update_yaxes(range=[daily_data['Low'].min(), daily_data['High'].max()])\u001b[39;00m\n\u001b[1;32m     35\u001b[0m pyo\u001b[39m.\u001b[39mplot(fig, filename\u001b[39m=\u001b[39m\u001b[39m\"\u001b[39m\u001b[39mAAVWAP.html\u001b[39m\u001b[39m\"\u001b[39m)\n",
      "\u001b[0;31mNameError\u001b[0m: name 'fig' is not defined"
     ]
    }
   ],
   "source": [
    "fig.update_layout(\n",
    "    xaxis_rangeslider_visible=False,\n",
    "    xaxis=dict(\n",
    "        rangeselector=dict(\n",
    "            buttons=list([\n",
    "                dict(count=1,\n",
    "                        label=\"1m\",\n",
    "                        step=\"month\",\n",
    "                        stepmode=\"backward\"),\n",
    "                dict(count=6,\n",
    "                        label=\"6m\",\n",
    "                        step=\"month\",\n",
    "                        stepmode=\"backward\"),\n",
    "                dict(count=1,\n",
    "                        label=\"YTD\",\n",
    "                        step=\"year\",\n",
    "                        stepmode=\"todate\"),\n",
    "                dict(count=1,\n",
    "                        label=\"1y\",\n",
    "                        step=\"year\",\n",
    "                        stepmode=\"backward\"),\n",
    "                dict(step=\"all\")\n",
    "            ])\n",
    "        ),\n",
    "        rangeslider=dict(\n",
    "            visible=True\n",
    "        ),\n",
    "        type=\"date\"\n",
    "    )\n",
    ")\n",
    "\n",
    "\n",
    "\n",
    "# fig.update_yaxes(range=[daily_data['Low'].min(), daily_data['High'].max()])\n",
    "pyo.plot(fig, filename=\"AAVWAP.html\")\n"
   ]
  },
  {
   "cell_type": "code",
   "execution_count": null,
   "metadata": {},
   "outputs": [],
   "source": []
  }
 ],
 "metadata": {
  "kernelspec": {
   "display_name": ".virtualenvs",
   "language": "python",
   "name": "python3"
  },
  "language_info": {
   "codemirror_mode": {
    "name": "ipython",
    "version": 3
   },
   "file_extension": ".py",
   "mimetype": "text/x-python",
   "name": "python",
   "nbconvert_exporter": "python",
   "pygments_lexer": "ipython3",
   "version": "3.10.9"
  },
  "orig_nbformat": 4,
  "vscode": {
   "interpreter": {
    "hash": "49923a79da37503b7585011c1d4fbf98104ab872348be5d7a60d9e572fa91926"
   }
  }
 },
 "nbformat": 4,
 "nbformat_minor": 2
}
